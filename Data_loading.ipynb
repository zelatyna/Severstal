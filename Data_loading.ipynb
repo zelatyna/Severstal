{
 "cells": [
  {
   "cell_type": "markdown",
   "metadata": {},
   "source": [
    "## Loading data to TFRecords\n",
    "https://medium.com/coinmonks/beginners-guide-to-feeding-data-in-tensorflow-part2-5e2506d75429\n",
    "https://medium.com/@cl2227619761/creating-tensorflow-tfrecords-file-using-images-ade8f3076131"
   ]
  },
  {
   "cell_type": "markdown",
   "metadata": {},
   "source": [
    "The various advantages of TFRecords format are —\n",
    "* Faster to read than PNG or other formats.\n",
    "* Gives you the flexibility in data pipelining.\n",
    "* Useful when the data doesn’t fit in memory.\n",
    "* Less no of files to manage.(Personal opinion)"
   ]
  },
  {
   "cell_type": "code",
   "execution_count": 30,
   "metadata": {},
   "outputs": [],
   "source": [
    "import tensorflow as tf\n",
    "import os\n",
    "from PIL import Image  # used to read images from directory\n",
    "import pandas as pd\n",
    "import numpy as np"
   ]
  },
  {
   "cell_type": "code",
   "execution_count": 32,
   "metadata": {},
   "outputs": [],
   "source": [
    "test_path = 'test_images'\n",
    "train_path = 'train_images'\n",
    "IMG_WIDTH = 1600\n",
    "IMG_HEIGHT = 256\n",
    "AUTOTUNE = tf.data.experimental.AUTOTUNE"
   ]
  },
  {
   "cell_type": "code",
   "execution_count": 14,
   "metadata": {},
   "outputs": [],
   "source": [
    "# my file path, just like the picture above\n",
    "image_path = \"train_images/\"\n",
    "# the tfrecord file path, you need to create the folder yourself\n",
    "recordPath = \"tfrecord/\"\n",
    "# the best number of images stored in each tfrecord file\n",
    "bestNum = 1000\n",
    "# the index of images flowing into each tfrecord file\n",
    "num = 0\n",
    "# the index of the tfrecord file\n",
    "recordFileNum = 0\n",
    "# name format of the tfrecord files\n",
    "recordFileName = (\"train.tfrecords-%.3d\" % recordFileNum)\n",
    "# tfrecord file writer\n",
    "writer = tf.io.TFRecordWriter(recordPath + recordFileName)"
   ]
  },
  {
   "cell_type": "code",
   "execution_count": 18,
   "metadata": {},
   "outputs": [],
   "source": [
    "defects_df = pd.read_csv('train.csv')\n",
    "defects_df['ImageId'] = defects_df['ImageId_ClassId'].apply(lambda x : x.split('_')[0])\n",
    "defects_df['ClassId'] = defects_df['ImageId_ClassId'].apply(lambda x : x.split('_')[1])\n",
    "defects_df.set_index('ImageId_ClassId', inplace=True)"
   ]
  },
  {
   "cell_type": "code",
   "execution_count": 19,
   "metadata": {},
   "outputs": [],
   "source": [
    "# 1 - red, 2 - yellow, 3- green , 4 - blue\n",
    "colors = {1 : [255, 0, 0], 2: [255, 255, 0], 3: [0, 255, 0], 4: [0, 0, 255]}"
   ]
  },
  {
   "cell_type": "code",
   "execution_count": 20,
   "metadata": {},
   "outputs": [
    {
     "data": {
      "text/plain": [
       "6666"
      ]
     },
     "execution_count": 20,
     "metadata": {},
     "output_type": "execute_result"
    }
   ],
   "source": [
    "## Unique images with defects\n",
    "no_defects = defects_df[defects_df['EncodedPixels'].notnull()]\n",
    "len(no_defects['ImageId'].unique())"
   ]
  },
  {
   "cell_type": "code",
   "execution_count": 21,
   "metadata": {},
   "outputs": [],
   "source": [
    "'''\n",
    "This function is an rle to mask converter.\n",
    "You supply the rle string for one mask, along with it's height and width\n",
    "from the solutions for stage1 and it will return the mask.\n",
    "'''\n",
    "def rle2mask(rle, imgshape):\n",
    "    width = imgshape[0]\n",
    "    height= imgshape[1]\n",
    "    \n",
    "    mask= np.zeros( width*height ).astype(np.uint8)\n",
    "    \n",
    "    array = np.asarray([int(x) for x in rle.split()])\n",
    "    starts = array[0::2]\n",
    "    lengths = array[1::2]\n",
    "\n",
    "    current_position = 0\n",
    "    for index, start in enumerate(starts):\n",
    "        mask[int(start):int(start+lengths[index])] = 1\n",
    "        current_position += lengths[index]\n",
    "        \n",
    "    return np.flipud( np.rot90( mask.reshape(height,width), k=1 ) )"
   ]
  },
  {
   "cell_type": "code",
   "execution_count": 36,
   "metadata": {},
   "outputs": [],
   "source": [
    "def img_with_mask(img):\n",
    "    #print(image)\n",
    "    mask = np.zeros((IMG_HEIGHT, IMG_WIDTH))\n",
    "    #find defects for given image\n",
    "    df = no_defects[no_defects['ImageId'] == img].reset_index()\n",
    "    for j in range(len(df)):\n",
    "        mask = rle2mask( df['EncodedPixels'].iloc[j], (img.shape[0], img.shape[1])  )\n",
    "        classes[mask==1] = colors[int(df['ClassId'].iloc[j])]\n",
    "    #masks.append(classes)\n",
    "    return mask"
   ]
  },
  {
   "cell_type": "code",
   "execution_count": null,
   "metadata": {},
   "outputs": [
    {
     "name": "stdout",
     "output_type": "stream",
     "text": [
      "Creating the 000 tfrecord file\n",
      "Creating the 002 tfrecord file\n"
     ]
    }
   ],
   "source": [
    "print(\"Creating the 000 tfrecord file\")\n",
    "for img_name in os.listdir(train_path):\n",
    "    num += 1\n",
    "    if num > bestNum:\n",
    "        num = 1\n",
    "        recordFileNum += 1\n",
    "        writer = tf.io.TFRecordWriter(recordPath + str(recordFileNum))\n",
    "        print(\"Creating the %.3d tfrecord file\" % recordFileNum)\n",
    "    img = Image.open(train_path + '/' + img_name, \"r\")\n",
    "    img_raw = img.tobytes()\n",
    "    example = tf.train.Example(features=tf.train.Features(feature={\n",
    "        \"img_raw\": tf.train.Feature(bytes_list=tf.train.BytesList(value=[img_raw])),\n",
    "        \"img_mask\": tf.train.Feature(bytes_list=tf.train.BytesList(value=[img_with_mask(img_raw).tobytes()]))}))\n",
    "    writer.write(example.SerializeToString())\n",
    "writer.close()"
   ]
  },
  {
   "cell_type": "code",
   "execution_count": null,
   "metadata": {},
   "outputs": [],
   "source": []
  },
  {
   "cell_type": "code",
   "execution_count": null,
   "metadata": {},
   "outputs": [],
   "source": []
  },
  {
   "cell_type": "code",
   "execution_count": null,
   "metadata": {},
   "outputs": [],
   "source": []
  },
  {
   "cell_type": "code",
   "execution_count": null,
   "metadata": {},
   "outputs": [],
   "source": [
    "path = os.path.abspath('train_masks/')\n",
    "def _ondisk_parse_(filename):\n",
    "    filename = tf.cast([filename],tf.string)\n",
    "    \n",
    "    label = tf.string_split([tf.string_split(filename,'_').values[1]],'.').values[0]\n",
    "    label = tf.string_to_number([label],tf.int32)\n",
    "    \n",
    "    path = os.path.abspath('./digit-recognizer/train//')\n",
    "    path = tf.cast([path],tf.string)\n",
    "    \n",
    "    final_path = tf.string_join((path,tf.cast(['/'],tf.string),filename))\n",
    "    \n",
    "    image_string = tf.read_file(final_path[0])\n",
    "    image = tf.image.decode_jpeg(image_string)\n",
    "    image = tf.cast(image,tf.int8)\n",
    "    image = tf.cast(image,tf.float32)\n",
    "    image_reshaped = tf.reshape(image,(784,))\n",
    "    return (dict({'image':image}),label)"
   ]
  }
 ],
 "metadata": {
  "kernelspec": {
   "display_name": "Python 3",
   "language": "python",
   "name": "python3"
  },
  "language_info": {
   "codemirror_mode": {
    "name": "ipython",
    "version": 3
   },
   "file_extension": ".py",
   "mimetype": "text/x-python",
   "name": "python",
   "nbconvert_exporter": "python",
   "pygments_lexer": "ipython3",
   "version": "3.6.9"
  }
 },
 "nbformat": 4,
 "nbformat_minor": 2
}
